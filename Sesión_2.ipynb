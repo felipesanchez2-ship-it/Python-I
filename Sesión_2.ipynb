{
  "nbformat": 4,
  "nbformat_minor": 0,
  "metadata": {
    "colab": {
      "provenance": [],
      "include_colab_link": true
    },
    "kernelspec": {
      "name": "python3",
      "display_name": "Python 3"
    },
    "language_info": {
      "name": "python"
    }
  },
  "cells": [
    {
      "cell_type": "markdown",
      "metadata": {
        "id": "view-in-github",
        "colab_type": "text"
      },
      "source": [
        "<a href=\"https://colab.research.google.com/github/felipesanchez2-ship-it/Python-I/blob/main/Sesi%C3%B3n_2.ipynb\" target=\"_parent\"><img src=\"https://colab.research.google.com/assets/colab-badge.svg\" alt=\"Open In Colab\"/></a>"
      ]
    },
    {
      "cell_type": "markdown",
      "source": [
        "<p><img alt=\"Colaboratory logo\" height=\"120px\" src=\"https://www.udea.edu.co/wps/wcm/connect/udea/df55724e-3ebc-46c6-b608-fb9206b3fede/facultad-economicas.png?MOD=AJPERES&CVID=nc5zPyj\" align=\"Center\" hspace=\"10px\" vspace=\"10px\"></p>\n",
        "\n",
        "#***Python I - Introducción a modelos económicos y financieros con Python***\n",
        "\n",
        "\n",
        "#**Sesión 2**\n",
        "# Docente: *Cristian Ruiz Parra*\n",
        "\n",
        "Contenido de la sesión\n",
        "\n",
        "- Indentación\n",
        "- Cadena de caracteres\n",
        "- Introducción a Numpy\n",
        "- Principales funciones\n",
        "- Taller practico Numpy"
      ],
      "metadata": {
        "id": "qS43xDWC6BES"
      }
    },
    {
      "cell_type": "markdown",
      "source": [
        "# **Indentación (Sangria)**\n",
        "\n",
        "La indetación en Python es el espacio en blanco al inicio de cada linea de código que se usa para definir bloques de código; por ejemplo: En bucles for, condicionales if y funciones.\n",
        "\n",
        "La Convención utilizada son **4 espacios** y python entendera automaticamente que hace parte del ciclo o sentencia establecida (a partir del 1er espacio)\n",
        "\n",
        "Existe una regla no escrita de no mezclar tabs con espacios, para no generar inconsistencia en los metodos de indentación, sin embargo en el caso de google colaboratory, el tab tiene equivalencia automatica a **2 espacios** modificable a 4 en la pestaña de \"Herramientas\" en la función \"Configuración\" en la pestaña \"Editor\" se ajusta el ancho de la sangria"
      ],
      "metadata": {
        "id": "rGInSIpp63mw"
      }
    },
    {
      "cell_type": "code",
      "source": [
        "edad=int(input(\"Inserte la edad de la persona:\"))\n",
        "\n",
        "if 0<=edad<=100: #Edad valida\n",
        "    print(\"Edad valida\")\n",
        "    if edad >= 18:\n",
        "        print(\"Mayor de edad\")\n",
        "        puede_votar = True\n",
        "    else:\n",
        "        print(\"Menor de edad\")\n",
        "        puede_votar = False\n",
        "    print(f\"Puede votar:{puede_votar}\")\n",
        "else:\n",
        "    print(\"Edad invalida\")"
      ],
      "metadata": {
        "id": "iXV9UK2O8Ixt",
        "colab": {
          "base_uri": "https://localhost:8080/",
          "height": 356
        },
        "outputId": "e9dc957e-b8cb-476b-851a-6735ce7d353e"
      },
      "execution_count": 6,
      "outputs": [
        {
          "output_type": "error",
          "ename": "KeyboardInterrupt",
          "evalue": "Interrupted by user",
          "traceback": [
            "\u001b[0;31m---------------------------------------------------------------------------\u001b[0m",
            "\u001b[0;31mKeyboardInterrupt\u001b[0m                         Traceback (most recent call last)",
            "\u001b[0;32m/tmp/ipython-input-578739863.py\u001b[0m in \u001b[0;36m<cell line: 0>\u001b[0;34m()\u001b[0m\n\u001b[0;32m----> 1\u001b[0;31m \u001b[0medad\u001b[0m\u001b[0;34m=\u001b[0m\u001b[0mint\u001b[0m\u001b[0;34m(\u001b[0m\u001b[0minput\u001b[0m\u001b[0;34m(\u001b[0m\u001b[0;34m\"Inserte la edad de la persona:\"\u001b[0m\u001b[0;34m)\u001b[0m\u001b[0;34m)\u001b[0m\u001b[0;34m\u001b[0m\u001b[0;34m\u001b[0m\u001b[0m\n\u001b[0m\u001b[1;32m      2\u001b[0m \u001b[0;34m\u001b[0m\u001b[0m\n\u001b[1;32m      3\u001b[0m \u001b[0;32mif\u001b[0m \u001b[0;36m0\u001b[0m\u001b[0;34m<=\u001b[0m\u001b[0medad\u001b[0m\u001b[0;34m<=\u001b[0m\u001b[0;36m100\u001b[0m\u001b[0;34m:\u001b[0m \u001b[0;31m#Edad valida\u001b[0m\u001b[0;34m\u001b[0m\u001b[0;34m\u001b[0m\u001b[0m\n\u001b[1;32m      4\u001b[0m     \u001b[0mprint\u001b[0m\u001b[0;34m(\u001b[0m\u001b[0;34m\"Edad valida\"\u001b[0m\u001b[0;34m)\u001b[0m\u001b[0;34m\u001b[0m\u001b[0;34m\u001b[0m\u001b[0m\n\u001b[1;32m      5\u001b[0m     \u001b[0;32mif\u001b[0m \u001b[0medad\u001b[0m \u001b[0;34m>=\u001b[0m \u001b[0;36m18\u001b[0m\u001b[0;34m:\u001b[0m\u001b[0;34m\u001b[0m\u001b[0;34m\u001b[0m\u001b[0m\n",
            "\u001b[0;32m/usr/local/lib/python3.12/dist-packages/ipykernel/kernelbase.py\u001b[0m in \u001b[0;36mraw_input\u001b[0;34m(self, prompt)\u001b[0m\n\u001b[1;32m   1175\u001b[0m                 \u001b[0;34m\"raw_input was called, but this frontend does not support input requests.\"\u001b[0m\u001b[0;34m\u001b[0m\u001b[0;34m\u001b[0m\u001b[0m\n\u001b[1;32m   1176\u001b[0m             )\n\u001b[0;32m-> 1177\u001b[0;31m         return self._input_request(\n\u001b[0m\u001b[1;32m   1178\u001b[0m             \u001b[0mstr\u001b[0m\u001b[0;34m(\u001b[0m\u001b[0mprompt\u001b[0m\u001b[0;34m)\u001b[0m\u001b[0;34m,\u001b[0m\u001b[0;34m\u001b[0m\u001b[0;34m\u001b[0m\u001b[0m\n\u001b[1;32m   1179\u001b[0m             \u001b[0mself\u001b[0m\u001b[0;34m.\u001b[0m\u001b[0m_parent_ident\u001b[0m\u001b[0;34m[\u001b[0m\u001b[0;34m\"shell\"\u001b[0m\u001b[0;34m]\u001b[0m\u001b[0;34m,\u001b[0m\u001b[0;34m\u001b[0m\u001b[0;34m\u001b[0m\u001b[0m\n",
            "\u001b[0;32m/usr/local/lib/python3.12/dist-packages/ipykernel/kernelbase.py\u001b[0m in \u001b[0;36m_input_request\u001b[0;34m(self, prompt, ident, parent, password)\u001b[0m\n\u001b[1;32m   1217\u001b[0m             \u001b[0;32mexcept\u001b[0m \u001b[0mKeyboardInterrupt\u001b[0m\u001b[0;34m:\u001b[0m\u001b[0;34m\u001b[0m\u001b[0;34m\u001b[0m\u001b[0m\n\u001b[1;32m   1218\u001b[0m                 \u001b[0;31m# re-raise KeyboardInterrupt, to truncate traceback\u001b[0m\u001b[0;34m\u001b[0m\u001b[0;34m\u001b[0m\u001b[0m\n\u001b[0;32m-> 1219\u001b[0;31m                 \u001b[0;32mraise\u001b[0m \u001b[0mKeyboardInterrupt\u001b[0m\u001b[0;34m(\u001b[0m\u001b[0;34m\"Interrupted by user\"\u001b[0m\u001b[0;34m)\u001b[0m \u001b[0;32mfrom\u001b[0m \u001b[0;32mNone\u001b[0m\u001b[0;34m\u001b[0m\u001b[0;34m\u001b[0m\u001b[0m\n\u001b[0m\u001b[1;32m   1220\u001b[0m             \u001b[0;32mexcept\u001b[0m \u001b[0mException\u001b[0m\u001b[0;34m:\u001b[0m\u001b[0;34m\u001b[0m\u001b[0;34m\u001b[0m\u001b[0m\n\u001b[1;32m   1221\u001b[0m                 \u001b[0mself\u001b[0m\u001b[0;34m.\u001b[0m\u001b[0mlog\u001b[0m\u001b[0;34m.\u001b[0m\u001b[0mwarning\u001b[0m\u001b[0;34m(\u001b[0m\u001b[0;34m\"Invalid Message:\"\u001b[0m\u001b[0;34m,\u001b[0m \u001b[0mexc_info\u001b[0m\u001b[0;34m=\u001b[0m\u001b[0;32mTrue\u001b[0m\u001b[0;34m)\u001b[0m\u001b[0;34m\u001b[0m\u001b[0;34m\u001b[0m\u001b[0m\n",
            "\u001b[0;31mKeyboardInterrupt\u001b[0m: Interrupted by user"
          ]
        }
      ]
    },
    {
      "cell_type": "code",
      "execution_count": null,
      "metadata": {
        "id": "5SFhSaKW5p2t"
      },
      "outputs": [],
      "source": [
        "edad=int(input(\"Inserte la edad de la persona:\"))\n",
        "\n",
        "if 0<=edad<=100: #Edad valida\n",
        "    print(\"Edad valida\")\n",
        "    if edad >= 18:\n",
        "        print(\"Mayor de edad\")\n",
        "        puede_votar = True\n",
        "    else:\n",
        "       print(\"Menor de edad\")\n",
        "       puede_votar = False\n",
        "\n",
        "    print(f\"Puede votar:{puede_votar}\")\n",
        "\n",
        "else:print(\"Edad invalida\")\n",
        "\n"
      ]
    },
    {
      "cell_type": "markdown",
      "source": [
        "# **Cadenas de Caracteres (Strings)**\n",
        "Son secuencias de caracteres Unicode utilizadas para representar texto, los cuales son de los tipos de dados fundamentales y versatiles del lenguaje de programación"
      ],
      "metadata": {
        "id": "KPZ_C-Rbbr0G"
      }
    },
    {
      "cell_type": "markdown",
      "source": [
        "los caracteres especiales para definir en python un string son:\n",
        "\n",
        "Comillas simples:'Texto'\n",
        "\n",
        "Comillas dobles: \"Texto\"\n",
        "\n",
        "Comillas triples(tres comillas sencillas)\n",
        ":'''Texto'''\n",
        "\n",
        "Si se requiere usar alguno de los caracteres como parte del texto se usa alguna combinación de los anteriores\n",
        "\n",
        "Ejm:\n",
        "'ella dijo:\"Soy Feliz\"' de esta forma el definidor del string es la comilla simple(') y las comillas dobles(\") son parte del texto"
      ],
      "metadata": {
        "id": "N7JW6iBvhClO"
      }
    },
    {
      "cell_type": "code",
      "source": [
        "# Comillas simples\n",
        "cadena1 = 'Hola querida'\n",
        "nombre = 'María'\n",
        "print(cadena1, nombre)\n"
      ],
      "metadata": {
        "colab": {
          "base_uri": "https://localhost:8080/"
        },
        "id": "a4SqFkGDccqW",
        "outputId": "4eb7fbe4-135b-42f9-e4f6-045420009617"
      },
      "execution_count": 8,
      "outputs": [
        {
          "output_type": "stream",
          "name": "stdout",
          "text": [
            "Hola querida María\n"
          ]
        }
      ]
    },
    {
      "cell_type": "code",
      "source": [
        "type(cadena1)"
      ],
      "metadata": {
        "colab": {
          "base_uri": "https://localhost:8080/"
        },
        "id": "EtEOor9GRN4u",
        "outputId": "9fd729a9-41ca-40dd-c180-305a73aa4972"
      },
      "execution_count": 9,
      "outputs": [
        {
          "output_type": "execute_result",
          "data": {
            "text/plain": [
              "str"
            ]
          },
          "metadata": {},
          "execution_count": 9
        }
      ]
    },
    {
      "cell_type": "code",
      "source": [
        "# Comillas dobles\n",
        "cadena2 = \"Python es genial\"\n",
        "mensaje = \"Él dijo: 'Hola'\"\n",
        "print(cadena2)\n",
        "print(mensaje)\n"
      ],
      "metadata": {
        "colab": {
          "base_uri": "https://localhost:8080/"
        },
        "id": "oJkYoC0rcgYP",
        "outputId": "b43e8da5-c1e0-41d8-b5e5-671e8217a8d6"
      },
      "execution_count": 10,
      "outputs": [
        {
          "output_type": "stream",
          "name": "stdout",
          "text": [
            "Python es genial\n",
            "Él dijo: 'Hola'\n"
          ]
        }
      ]
    },
    {
      "cell_type": "code",
      "source": [
        "# Comillas triples (multilínea)\n",
        "parrafo = \"\"\"Este es un párrafo\n",
        "que ocupa múltiples líneas\n",
        "sin necesidad de caracteres especiales\"\"\"\n",
        "print(parrafo)\n"
      ],
      "metadata": {
        "colab": {
          "base_uri": "https://localhost:8080/"
        },
        "id": "4VQKApexcsDj",
        "outputId": "941b2b2b-e818-45d1-b158-3beeed9bb718"
      },
      "execution_count": 11,
      "outputs": [
        {
          "output_type": "stream",
          "name": "stdout",
          "text": [
            "Este es un párrafo\n",
            "que ocupa múltiples líneas\n",
            "sin necesidad de caracteres especiales\n"
          ]
        }
      ]
    },
    {
      "cell_type": "code",
      "source": [
        "# Caracteres Especiales\n",
        "salto_linea = \"Línea 1\\nLínea 2\"           # \\n - Nueva línea\n",
        "tabulacion = \"Nombre1:\\tJuan\"              # \\t - Tabulación\n",
        "barra_invertida = \"Ruta: C:\\\\Usuarios\"     # \\\\ - Barra invertida\n",
        "comillas_dobles = 'Él dijo: \"Hola\"'        # \" dentro de '\n",
        "comillas_simples = \"It's amazing\"          # ' dentro de \"\n",
        "unicode_char = \"Número: \\u00D7\"            # \\u - Carácter Unicode\n",
        "\n",
        "print(\"Salto de línea:\")\n",
        "print(salto_linea)\n",
        "print(\"\\nTabulación:\")\n",
        "print(tabulacion)\n",
        "print(comillas_dobles)\n",
        "print(unicode_char)"
      ],
      "metadata": {
        "collapsed": true,
        "id": "YwT-AqXaeRJ6",
        "colab": {
          "base_uri": "https://localhost:8080/"
        },
        "outputId": "2dbb5245-82a4-4a11-bc70-f2ca5827846b"
      },
      "execution_count": 13,
      "outputs": [
        {
          "output_type": "stream",
          "name": "stdout",
          "text": [
            "Salto de línea:\n",
            "Línea 1\n",
            "Línea 2\n",
            "\n",
            "Tabulación:\n",
            "Nombre1:\tJuan\n",
            "Él dijo: \"Hola\"\n",
            "Número: ×\n"
          ]
        }
      ]
    },
    {
      "cell_type": "markdown",
      "source": [
        "# **Indexación y corte de cadenas de texto**\n",
        "\n",
        "Para llamar un caracter especifico de la cadena de texto o para un segmento particular de la cadena usamos la misma estructura que se vimos anteriormente para las tuplas.\n",
        "Usando los enteros positivos para llamarlos de izquierda a derecha y los enteros negativos para llamarlos de derecha a izquierda(por tanto el -1 haria referencia al ultimo caracter)"
      ],
      "metadata": {
        "id": "rm71jAJOC790"
      }
    },
    {
      "cell_type": "code",
      "source": [
        "texto = \"Python para todos\"\n",
        "\n",
        "# Indexación (acceso por posición)\n",
        "primer_caracter = texto[0]        # 'P'\n",
        "segundo_caracter = texto[1]       # 'y'\n",
        "ultimo_caracter = texto[-1]       # 's'\n",
        "penultimo = texto[-2]             # 'o'\n",
        "\n",
        "# Slicing (subcadenas)\n",
        "primeras_6 = texto[0:6]           # 'Python'\n",
        "desde_7 = texto[7:]               # 'para todos'\n",
        "hasta_10 = texto[:10]             # 'Python par'\n",
        "cada_2 = texto[::2]               # 'Pto pr ods'\n",
        "reverso = texto[::-1]             # 'sodot arap nohtyP'\n",
        "\n",
        "print(f\"Texto: {texto}\")\n",
        "print(f\"Primer caracter: {primer_caracter}\")\n",
        "print(f\"Segundo caracter: {segundo_caracter}\")\n",
        "print(f\"Último caracter: {ultimo_caracter}\")\n",
        "print(f\"Penúltimo caracter: {penultimo}\")\n",
        "print(f\"Primeras 6 letras: {primeras_6}\")\n",
        "print(f\"Desde el 7to caracter: {desde_7}\")\n",
        "print(f\"Hasta el 10mo caracter: {hasta_10}\")\n",
        "print(f\"Cada 2 caracteres: {cada_2}\")\n",
        "print(f\"Reverso: {reverso}\")"
      ],
      "metadata": {
        "colab": {
          "base_uri": "https://localhost:8080/"
        },
        "id": "3py3DrCRroYT",
        "outputId": "2d48b8ec-c0ce-4e3e-f567-93173ae0a6d4"
      },
      "execution_count": 14,
      "outputs": [
        {
          "output_type": "stream",
          "name": "stdout",
          "text": [
            "Texto: Python para todos\n",
            "Primer caracter: P\n",
            "Segundo caracter: y\n",
            "Último caracter: s\n",
            "Penúltimo caracter: o\n",
            "Primeras 6 letras: Python\n",
            "Desde el 7to caracter: para todos\n",
            "Hasta el 10mo caracter: Python par\n",
            "Cada 2 caracteres: Pto aatds\n",
            "Reverso: sodot arap nohtyP\n"
          ]
        }
      ]
    },
    {
      "cell_type": "markdown",
      "source": [
        "# **Operaciones comunes con (Strings)**\n",
        "\n",
        "Tipos de operaciones:\n",
        "\n",
        "- Concatenación\n",
        "- Repetición\n",
        "- Longitud\n",
        "- membresia"
      ],
      "metadata": {
        "id": "QQU0F_gRt81V"
      }
    },
    {
      "cell_type": "markdown",
      "source": [
        "**Concatenación**"
      ],
      "metadata": {
        "id": "_QsE5G6pxZhh"
      }
    },
    {
      "cell_type": "code",
      "source": [
        "# Concatenación (+)\n",
        "saludo = \"Hola\" + \" \" + \"estimada\"\n",
        "nombre_completo = \"Ana\" + \" \" + \"García\"\n",
        "Texto_completo=saludo+\" \"+nombre_completo\n",
        "print(nombre_completo)\n",
        "print(Texto_completo)"
      ],
      "metadata": {
        "colab": {
          "base_uri": "https://localhost:8080/"
        },
        "id": "AeN4phhPvN-D",
        "outputId": "b09dbc0b-185a-443a-8419-2926f0e751ef"
      },
      "execution_count": 15,
      "outputs": [
        {
          "output_type": "stream",
          "name": "stdout",
          "text": [
            "Ana García\n",
            "Hola estimada Ana García\n"
          ]
        }
      ]
    },
    {
      "cell_type": "code",
      "source": [
        "# Concatenación con atajo +=\n",
        "mensaje = \"Hola\"\n",
        "mensaje += \" Mundo\"               # \"Hola Mundo\"\n",
        "mensaje += \"!\"                    # \"Hola Mundo!\"\n",
        "print(mensaje)"
      ],
      "metadata": {
        "colab": {
          "base_uri": "https://localhost:8080/"
        },
        "id": "5WcoxNOixhla",
        "outputId": "a59f30c2-787c-4397-c627-0a82f956ed1f"
      },
      "execution_count": 16,
      "outputs": [
        {
          "output_type": "stream",
          "name": "stdout",
          "text": [
            "Hola Mundo!\n"
          ]
        }
      ]
    },
    {
      "cell_type": "markdown",
      "source": [
        "**Repetición**"
      ],
      "metadata": {
        "id": "AZSOT0aPxsOA"
      }
    },
    {
      "cell_type": "code",
      "source": [
        "# Repetición (*)\n",
        "aplausos = \"¡Bravo! \" * 3        # \"¡Bravo! ¡Bravo! ¡Bravo! \"\n",
        "\n",
        "separador = \"Ella\"+\"-\" * 40 + \"yo\"             # \"----------------------------------------\"\n",
        "print(aplausos)\n",
        "print(separador)"
      ],
      "metadata": {
        "colab": {
          "base_uri": "https://localhost:8080/"
        },
        "id": "28H1uCc6xv2s",
        "outputId": "7e75f20b-ffe1-4b25-db56-6c6637aa35bc"
      },
      "execution_count": 17,
      "outputs": [
        {
          "output_type": "stream",
          "name": "stdout",
          "text": [
            "¡Bravo! ¡Bravo! ¡Bravo! \n",
            "Ella----------------------------------------yo\n"
          ]
        }
      ]
    },
    {
      "cell_type": "markdown",
      "source": [
        "**Longitud**"
      ],
      "metadata": {
        "id": "G1NKdjVjyYLY"
      }
    },
    {
      "cell_type": "code",
      "source": [
        "texto = \"Aprendiendo Python\"\n",
        "\n",
        "# Longitud (len())\n",
        "longitud = len(texto)\n",
        "print(f\"'{texto}' tiene {longitud} caracteres\")"
      ],
      "metadata": {
        "colab": {
          "base_uri": "https://localhost:8080/"
        },
        "id": "PQQtBDVDybS1",
        "outputId": "792d6bd1-ce6b-4ede-9521-4515dae7e5c3"
      },
      "execution_count": 18,
      "outputs": [
        {
          "output_type": "stream",
          "name": "stdout",
          "text": [
            "'Aprendiendo Python' tiene 18 caracteres\n"
          ]
        }
      ]
    },
    {
      "cell_type": "markdown",
      "source": [
        "**Membresia**"
      ],
      "metadata": {
        "id": "0vFvHsazypK4"
      }
    },
    {
      "cell_type": "code",
      "source": [
        "# Membresía (in, not in)\n",
        "contiene_python = \"Python\" in texto     # True\n",
        "contiene_java = \"Java\" in texto         # False\n",
        "no_contiene_php = \"PHP\" not in texto    # True\n",
        "\n",
        "print(f\"¿Contiene 'Python'? {contiene_python}\")\n",
        "print(f\"¿Contiene 'Java'? {contiene_java}\")\n",
        "print(\"¿contiene 'PHP?'\")\n",
        "print(contiene_python)"
      ],
      "metadata": {
        "colab": {
          "base_uri": "https://localhost:8080/"
        },
        "id": "swBcVUk4yrxX",
        "outputId": "4bd168e0-bc07-45ed-82fb-17cf4d27fa76"
      },
      "execution_count": 21,
      "outputs": [
        {
          "output_type": "stream",
          "name": "stdout",
          "text": [
            "¿Contiene 'Python'? True\n",
            "¿Contiene 'Java'? False\n",
            "¿contiene 'PHP?'\n",
            "True\n"
          ]
        }
      ]
    },
    {
      "cell_type": "markdown",
      "source": [
        "# **Acciones principales**\n",
        "\n",
        "- Transformación de texto\n",
        "- Busqueda y verificación\n",
        "- División y Unión\n",
        "- Reemplazo y formateo\n"
      ],
      "metadata": {
        "id": "s5Bb9KXM0lXk"
      }
    },
    {
      "cell_type": "markdown",
      "source": [
        "**Transformación de texto**"
      ],
      "metadata": {
        "id": "g9oiDzLo11of"
      }
    },
    {
      "cell_type": "code",
      "source": [
        "mensaje = \"  python es GENIAL  \"\n",
        "\n",
        "# Mayúsculas y minúsculas\n",
        "mayusculas = mensaje.upper()              # \"  PYTHON ES GENIAL  \"\n",
        "minusculas = mensaje.lower()              # \"  python es genial  \"\n",
        "titulo = mensaje.title()                  # \"  Python Es Genial  \"\n",
        "swapcase = \"PyThOn\".swapcase()            # \"pYtHoN\" Inverite patron\n",
        "\n",
        "# Eliminar espacios\n",
        "sin_espacios = mensaje.strip()            # \"python es GENIAL\"\n",
        "sin_izquierda = mensaje.lstrip()          # \"python es GENIAL  \"\n",
        "sin_derecha = mensaje.rstrip()            # \"  python es GENIAL\"\n",
        "sin_espaciosr=mensaje.replace(\" \",\"\")     # \"pythonesGENIAL\"\n",
        "\n",
        "\n",
        "# Reemplazar subcadenas\n",
        "print(f\"Original: '{mensaje}'\")\n",
        "print(f\"Mayúsculas: '{mayusculas}'\")\n",
        "print(f\"Minúsculas: '{minusculas}'\")\n",
        "print(f\"Título: '{titulo}'\")\n",
        "\n",
        "print(f\"Strip: '{sin_espacios}'\")\n",
        "print(f\"Lstrip: '{sin_izquierda}'\")\n",
        "print(f\"Rstrip: '{sin_derecha}'\")\n",
        "print(f\"replace:'{sin_espaciosr}'\")\n",
        "\n"
      ],
      "metadata": {
        "colab": {
          "base_uri": "https://localhost:8080/"
        },
        "id": "3TN4Aemr10y-",
        "outputId": "cf4e8cc3-3e93-422f-bb18-6fe66b1b33a2"
      },
      "execution_count": 22,
      "outputs": [
        {
          "output_type": "stream",
          "name": "stdout",
          "text": [
            "Original: '  python es GENIAL  '\n",
            "Mayúsculas: '  PYTHON ES GENIAL  '\n",
            "Minúsculas: '  python es genial  '\n",
            "Título: '  Python Es Genial  '\n",
            "Strip: 'python es GENIAL'\n",
            "Lstrip: 'python es GENIAL  '\n",
            "Rstrip: '  python es GENIAL'\n",
            "replace:'pythonesGENIAL'\n"
          ]
        }
      ]
    },
    {
      "cell_type": "markdown",
      "source": [
        "**Búsqueda y verificación**\n",
        "\n"
      ],
      "metadata": {
        "id": "P0XBk-oPMm4o"
      }
    },
    {
      "cell_type": "code",
      "source": [
        "texto = \"Python Lenguaje de Programación\"\n",
        "\n",
        "# Búsqueda de subcadenas\n",
        "posicion = texto.find(\"Programación\")      # 19\n",
        "ultima_posicion = texto.rfind(\"n\")        # 30\n",
        "contador = texto.count(\"n\")               # 3\n",
        "\n",
        "# Verificaciones booleanas\n",
        "es_alfanumerico = \"Python123\".isalnum()   # True\n",
        "es_alfabetico = \"Python\".isalpha()        # True\n",
        "es_numerico = \"123\".isdigit()             # True\n",
        "es_minusculas = \"python\".islower()        # True\n",
        "es_mayusculas = \"PYTHON\".isupper()        # True\n",
        "es_espacios = \"   \".isspace()             # True\n",
        "\n",
        "print(f\"Posición de 'Programación': {posicion}\")\n",
        "print(f\"Última posición de 'n': {ultima_posicion}\")\n",
        "print(f\"Contador de 'n': {contador}\")\n",
        "print(f\"¿Es alfanumérico? {es_alfanumerico}\")\n",
        "print(f\"¿Es alfabético? {es_alfabetico}\")\n",
        "print(f\"¿Es numérico? {es_numerico}\")\n",
        "print(f\"¿Es en minúsculas? {es_minusculas}\")"
      ],
      "metadata": {
        "colab": {
          "base_uri": "https://localhost:8080/"
        },
        "id": "BWzIUTkEMlyI",
        "outputId": "0f3433f9-fe3b-4279-82ee-90ee72143a79"
      },
      "execution_count": 23,
      "outputs": [
        {
          "output_type": "stream",
          "name": "stdout",
          "text": [
            "Posición de 'Programación': 19\n",
            "Última posición de 'n': 30\n",
            "Contador de 'n': 3\n",
            "¿Es alfanumérico? True\n",
            "¿Es alfabético? True\n",
            "¿Es numérico? True\n",
            "¿Es en minúsculas? True\n"
          ]
        }
      ]
    },
    {
      "cell_type": "code",
      "source": [
        "contadormayus = sum(1 for d in texto if d.isupper())\n",
        "\n",
        "print(\"Cantidad de letras mayúsculas:\", contador)"
      ],
      "metadata": {
        "colab": {
          "base_uri": "https://localhost:8080/"
        },
        "id": "2tektnZ5O7PS",
        "outputId": "19e8f616-6572-46c5-f053-83aca5958065"
      },
      "execution_count": 24,
      "outputs": [
        {
          "output_type": "stream",
          "name": "stdout",
          "text": [
            "Cantidad de letras mayúsculas: 3\n"
          ]
        }
      ]
    },
    {
      "cell_type": "markdown",
      "source": [
        "**División y unión**"
      ],
      "metadata": {
        "id": "2xl6nCZYPeq_"
      }
    },
    {
      "cell_type": "code",
      "source": [
        "# División (split)\n",
        "frase = \"Python,Java,C++,JavaScript\"\n",
        "lenguajes = frase.split(\",\")              # ['Python', 'Java', 'C++', 'JavaScript']\n",
        "\n",
        "texto = \"Hola mundo Python\"\n",
        "palabras = texto.split()                  # ['Hola', 'mundo', 'Python']\n",
        "\n",
        "lineas = \"Línea1\\nLínea2\\nLínea3\"\n",
        "lista_lineas = lineas.split(\"\\n\")         # ['Línea 1', 'Línea 2', 'Línea 3']\n",
        "\n",
        "# Unión (join)\n",
        "unido_comas = \",\".join(lenguajes)         # \"Python,Java,C++,JavaScript\"\n",
        "unido_guiones = \"-\".join(palabras)        # \"Hola-mundo-Python\"\n",
        "unido_espacios = \" \".join(lista_lineas)   # \"Línea 1 Línea 2 Línea 3\"\n",
        "\n",
        "print(f\"Dividido: {lenguajes}\")\n",
        "print(f\"Dividido: {palabras}\")\n",
        "print(f\"Unido: {unido_comas}\")\n",
        "print(f\"Unido: {unido_guiones}\")\n",
        "print(f\"Unido: {unido_espacios}\")"
      ],
      "metadata": {
        "colab": {
          "base_uri": "https://localhost:8080/"
        },
        "id": "kOfd4SwMPhqy",
        "outputId": "262edd8d-eab6-4d1c-dafc-0e9ac5972d59"
      },
      "execution_count": 25,
      "outputs": [
        {
          "output_type": "stream",
          "name": "stdout",
          "text": [
            "Dividido: ['Python', 'Java', 'C++', 'JavaScript']\n",
            "Dividido: ['Hola', 'mundo', 'Python']\n",
            "Unido: Python,Java,C++,JavaScript\n",
            "Unido: Hola-mundo-Python\n",
            "Unido: Línea1 Línea2 Línea3\n"
          ]
        }
      ]
    },
    {
      "cell_type": "markdown",
      "source": [
        "**Reemplazo y formateo**"
      ],
      "metadata": {
        "id": "FsetLDdrT11x"
      }
    },
    {
      "cell_type": "code",
      "source": [
        "texto = \"Me gusta Java y Java es genial\"\n",
        "\n",
        "# Reemplazo\n",
        "nuevo_texto = texto.replace(\"Java\", \"Python\")  # \"Me gusta Python y Python es genial\"\n",
        "\n",
        "reemplazo_limitado = texto.replace(\"Java\", \"Python\", 1)  # Solo el primero\n",
        "\n",
        "# Justificación\n",
        "centrado = \"Python\".center(20, \"-\")       # \"-------Python-------\"\n",
        "izquierda = \"Python\".ljust(15, \"*\")       # \"Python*********\"\n",
        "derecha = \"Python\".rjust(15, \"*\")         # \"*********Python\"\n",
        "\n",
        "# Relleno con ceros\n",
        "numero = \"42\"\n",
        "con_ceros = numero.zfill(5)               # \"00042\"\n",
        "\n",
        "print(f\"Reemplazo: {nuevo_texto}\")\n",
        "print(f\"Centrado: {centrado}\")\n",
        "print(f\"A la izquierda: {izquierda}\")\n",
        "print(f\"A la derecha: {derecha}\")\n",
        "print(f\"Con ceros: {con_ceros}\")\n"
      ],
      "metadata": {
        "colab": {
          "base_uri": "https://localhost:8080/"
        },
        "id": "aCYItBPjTh5_",
        "outputId": "c4fd12a4-ffe3-4084-85c4-5356efc6226e"
      },
      "execution_count": null,
      "outputs": [
        {
          "output_type": "stream",
          "name": "stdout",
          "text": [
            "Reemplazo: Me gusta Python y Python es genial\n",
            "Centrado: -------Python-------\n",
            "A la izquierda: Python*********\n",
            "A la derecha: *********Python\n",
            "Con ceros: 00042\n"
          ]
        }
      ]
    },
    {
      "cell_type": "markdown",
      "source": [
        "**F-String Básicas**"
      ],
      "metadata": {
        "id": "S4_7ZQehWehb"
      }
    },
    {
      "cell_type": "code",
      "source": [
        "nombre = \"Ana\"\n",
        "edad = 30\n",
        "salario = 2500000\n",
        "\n",
        "# Formateo básico\n",
        "presentacion = f\"Me llamo {nombre} y tengo {edad} años\"\n",
        "\n",
        "# Expresiones dentro de f-strings\n",
        "saludo = f\"Hola {nombre.upper()}!\"                    # \"Hola ANA!\"\n",
        "calculado = f\"En 5 años tendré {edad + 5} años\"       # \"En 5 años tendré 35 años\"\n",
        "\n",
        "# Llamadas a funciones\n",
        "def obtener_titulo(nombre):\n",
        "    return f\"Sr./Sra. {nombre}\"\n",
        "\n",
        "titulo = f\"{obtener_titulo(nombre)}, bienvenido/a\"    # \"Sr./Sra. Ana, bienvenido/a\"\n",
        "\n",
        "print(presentacion)\n",
        "print(saludo)\n",
        "print(titulo)"
      ],
      "metadata": {
        "colab": {
          "base_uri": "https://localhost:8080/"
        },
        "id": "aeO6U9FpV6C1",
        "outputId": "23f612eb-af52-4697-e6aa-0cd896d647d8"
      },
      "execution_count": null,
      "outputs": [
        {
          "output_type": "stream",
          "name": "stdout",
          "text": [
            "Me llamo Ana y tengo 30 años\n",
            "Hola ANA!\n",
            "Sr./Sra. Ana, bienvenido/a\n"
          ]
        }
      ]
    },
    {
      "cell_type": "markdown",
      "source": [
        "# **Taller Practico con Strings**"
      ],
      "metadata": {
        "id": "LVFE2UM-WkXn"
      }
    },
    {
      "cell_type": "code",
      "source": [
        "#Parte 1\n",
        "#Concatenar cadenas de texto\n",
        "\n",
        "# INSTRUCCIONES: Construye documentos académicos Usando tus datos\n",
        "titulo = 'Economia'\n",
        "autor = 'David Felipe Sanchez Garro'\n",
        "institucion ='Universidad de Antioquia'\n",
        "fecha ='22 de Octubre del 2025'\n",
        "Encabezado=titulo+\" \"+autor+\" \"+institucion+\" \"+fecha\n",
        "# 1. Construye el encabezado del documento Titulo, Autor, Institución, Fecha\n",
        "\n",
        "# 2. Construye una bibliografía del documento\n",
        "bibliografia1 = \"a\"\n",
        "bibliografia2 = \"1. Smith, J. (2020). Machine Learning Fundamentals.\"\n",
        "bibliografia3 = \"2. García, M. (2021). Data Analysis Techniques.\"\n",
        "bibliografia4= \"3. Lee, K. (2023). Python for Research.\"\n",
        "bibliografia=bibliografia1+\"/\"+bibliografia2+\"/\"+bibliografia3+\"+\"+bibliografia4\n",
        "# 3. Crea un DOI (10.1000/182.v1) concatenando partes\n",
        "prefijo = \"10.1000\"\n",
        "sufijo = \"182\"\n",
        "version = \"v1\"\n",
        "DOI=\"(\" + prefijo+sufijo+\".\"+version + \")\"\n",
        "\n",
        "print(Encabezado)\n",
        "print(bibliografia)\n",
        "print(DOI)"
      ],
      "metadata": {
        "id": "rzKi_6txc4vl",
        "colab": {
          "base_uri": "https://localhost:8080/"
        },
        "outputId": "b44276e0-46e5-4b4b-ebe7-d4bf65cc2820"
      },
      "execution_count": 35,
      "outputs": [
        {
          "output_type": "stream",
          "name": "stdout",
          "text": [
            "Economia David Felipe Sanchez Garro Universidad de Antioquia 22 de Octubre del 2025\n",
            "a/1. Smith, J. (2020). Machine Learning Fundamentals./2. García, M. (2021). Data Analysis Techniques.+3. Lee, K. (2023). Python for Research.\n",
            "(10.1000182.v1)\n"
          ]
        }
      ]
    },
    {
      "cell_type": "code",
      "source": [
        "# INSTRUCCIONES: Crea elementos visuales para interfaz\n",
        "separador = \"-\"\n",
        "encabezado = \"SISTEMA UNIVERSITARIO\"\n",
        "calificacion = \"★\"\n",
        "estrella_vacia= \"☆\"\n",
        "nota = 4.5\n",
        "centrado = encabezado.center(40,\"*\")\n",
        "type(nora)\n",
        "#********** SISTEMA UNIVERSITARIO **********\n",
        "#Calificación: ★★★★☆ (4.5/5)\n",
        "Calificacioon= \"calificacion\"+\":\"+calificacion*4 + estrella_vacia + \"(\"str(nota)+\"/5)\"\n",
        "print(centrado)\n",
        "\n",
        "print(Calificacioon)"
      ],
      "metadata": {
        "colab": {
          "base_uri": "https://localhost:8080/",
          "height": 196
        },
        "id": "cbjhrw7rfszO",
        "outputId": "184790de-031d-41ba-b815-7a2830cb0a6b"
      },
      "execution_count": 76,
      "outputs": [
        {
          "output_type": "error",
          "ename": "SyntaxError",
          "evalue": "'(' was never closed (ipython-input-3253982178.py, line 11)",
          "traceback": [
            "\u001b[0;36m  File \u001b[0;32m\"/tmp/ipython-input-3253982178.py\"\u001b[0;36m, line \u001b[0;32m11\u001b[0m\n\u001b[0;31m    Calificacioon= \"calificacion\"+\":\"+calificacion*4 + estrella_vacia + \"(\"+(nota+\"/5)\"\u001b[0m\n\u001b[0m                                                                            ^\u001b[0m\n\u001b[0;31mSyntaxError\u001b[0m\u001b[0;31m:\u001b[0m '(' was never closed\n"
          ]
        },
        {
          "output_type": "error",
          "ename": "SyntaxError",
          "evalue": "invalid syntax (ipython-input-3026543611.py, line 11)",
          "traceback": [
            "\u001b[0;36m  File \u001b[0;32m\"/tmp/ipython-input-3026543611.py\"\u001b[0;36m, line \u001b[0;32m11\u001b[0m\n\u001b[0;31m    Calificacioon= \"calificacion\"+\":\"+calificacion*4 + estrella_vacia + \"(\"str(nota)+\"/5)\"\u001b[0m\n\u001b[0m                                                                           ^\u001b[0m\n\u001b[0;31mSyntaxError\u001b[0m\u001b[0;31m:\u001b[0m invalid syntax\n"
          ]
        }
      ]
    },
    {
      "cell_type": "code",
      "source": [
        "#Parte 3\n",
        "#Longitud de texto\n",
        "\n",
        "# INSTRUCCIONES: Analiza longitudes de textos universitarios\n",
        "resumen = '''El presente artículo expone los resultados de un estudio orientado al desarrollo de un modelo de machine learning para la predicción del comportamiento de\n",
        "consumo energético en entornos urbanos, utilizando técnicas avanzadas de análisis de datos. Se recopiló un conjunto de más de 500 000 registros provenientes de sensores\n",
        "inteligentes instalados en la red eléctrica de tres ciudades latinoamericanas. Mediante un proceso de limpieza, normalización y transformación de datos, se identificaron\n",
        " patrones relevantes asociados con variables como temperatura ambiental, hora del día y tipo de zona residencial.\n",
        "\n",
        "El análisis exploratorio permitió detectar correlaciones significativas y anomalías de consumo que fueron modeladas mediante algoritmos supervisados, incluyendo Random Forest,\n",
        " XGBoost y redes neuronales profundas (Deep Neural Networks). Los resultados experimentales mostraron que el modelo basado en XGBoost alcanzó la mayor precisión, con un R² de 0.94 y\n",
        "  un MAE promedio de 0.18, superando en un 12% a los métodos tradicionales de regresión lineal.\n",
        "\n",
        "Además, se desarrolló un tablero interactivo de visualización que permite monitorear en tiempo real las predicciones y el rendimiento energético por sector. Se concluye que la\n",
        " integración de técnicas de machine learning con sistemas de monitoreo urbano representa una herramienta estratégica para la optimización del uso de recursos y la planificación energética sostenible'''\n",
        "\n",
        "titulo = \"Predicción del consumo energético urbano mediante técnicas de análisis de datos y machine learning\"\n",
        "nombre_completo = \"María José Rodríguez Hernández\"\n",
        "longitud = len(resumen)\n",
        "print(f\"'{titulo}' tiene {longitud} caracteres escirto por '{nombre_completo}'\")\n"
      ],
      "metadata": {
        "id": "f2LYt2dri_Ww",
        "colab": {
          "base_uri": "https://localhost:8080/"
        },
        "outputId": "e4ab7005-d4d0-48b4-c91d-af6773c1e2cf"
      },
      "execution_count": 56,
      "outputs": [
        {
          "output_type": "stream",
          "name": "stdout",
          "text": [
            "'Predicción del consumo energético urbano mediante técnicas de análisis de datos y machine learning' tiene 1438 caracteres escirto por 'María José Rodríguez Hernández'\n"
          ]
        }
      ]
    },
    {
      "cell_type": "code",
      "source": [
        "#Parte 4\n",
        "#Verifica contenido en textos académicos\n",
        "# Palabras Clave en el resumen del punto anterior: Análisis de datos, Machine learning, Consumo energético, Modelos predictivos\n",
        "\n",
        "palabras_clave = [\"análisis de datos\", \"machine learning\", \"consumo energético\", \"modelos predictivos\"]\n",
        "contador_palab = sum(1 for d in texto if palabras_clave)\n",
        "print(palabras_clave, contador_palab)\n",
        "print(\"Cantidad de palabras claves:\", contador_palab)\n",
        "# 1. Verifica si cada palabra clave está en el abstract y cuantas veces aparece\n"
      ],
      "metadata": {
        "id": "1Qf-OLSmoa54",
        "colab": {
          "base_uri": "https://localhost:8080/"
        },
        "outputId": "34b7e542-9758-4d2e-ef85-536c4b1316ca"
      },
      "execution_count": 64,
      "outputs": [
        {
          "output_type": "stream",
          "name": "stdout",
          "text": [
            "['análisis de datos', 'machine learning', 'consumo energético', 'modelos predictivos'] 17\n",
            "Cantidad de palabras claves: 17\n"
          ]
        }
      ]
    },
    {
      "cell_type": "code",
      "source": [
        "#Parte 5\n",
        "# INSTRUCCIONES: Normaliza datos de entrada de usuario\n",
        "entrada_usuario = \"  ana maría GARCÍA  \"\n",
        "titulo_libro = \"introducción a la PROGRAMACIÓN en PYTHON\"\n",
        "# 1. Normaliza el nombre: Primera letra mayúscula, resto minúsculas, sin espacios\n",
        "nombre_normalizado = entrada_usuario.title().replace(\" \",\"\")\n",
        "  # Completa la cadena\n",
        "print(\"1. Nombre normalizado:\", nombre_normalizado)\n",
        "\n",
        "# 2. Convierte el título del libro a formato título (cada palabra capitalizada)\n",
        "titulo_normalizado = titulo_libro.title()  # Completa\n",
        "print(\"2. Título normalizado:\", titulo_normalizado)\n",
        "\n",
        "# 3. Crea un email institucional: nombre.apellido@universidad.edu todo en minuscula\n",
        "partes_nombre = nombre_normalizado.lower()\n",
        "email_institucional = f\"{partes_nombre[0:8]}.{partes_nombre[8:14]}{'@universidad.edu'}\"  # Completa\n",
        "print(\"3. Email institucional:\",email_institucional)"
      ],
      "metadata": {
        "id": "reFG3jwsx613",
        "colab": {
          "base_uri": "https://localhost:8080/"
        },
        "outputId": "b22beaff-0b8b-4166-ce50-734b4a0a1ffb"
      },
      "execution_count": 91,
      "outputs": [
        {
          "output_type": "stream",
          "name": "stdout",
          "text": [
            "1. Nombre normalizado: AnaMaríaGarcía\n",
            "2. Título normalizado: Introducción A La Programación En Python\n",
            "3. Email institucional: anamaría.garcía@universidad.edu\n"
          ]
        }
      ]
    },
    {
      "cell_type": "markdown",
      "source": [],
      "metadata": {
        "id": "8XwyYt2TWkUP"
      }
    },
    {
      "cell_type": "markdown",
      "source": [
        "# **Bibliografia**\n",
        "\n",
        "[Indentación](https://www.freecodecamp.org/espanol/news/indentacion-en-python-con-ejemplos/)\n"
      ],
      "metadata": {
        "id": "qffG44FI6u97"
      }
    },
    {
      "cell_type": "markdown",
      "source": [],
      "metadata": {
        "id": "sZ01UCsZZLTM"
      }
    }
  ]
}